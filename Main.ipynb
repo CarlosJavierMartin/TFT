{
 "cells": [
  {
   "cell_type": "code",
   "execution_count": null,
   "id": "244fec5e",
   "metadata": {
    "scrolled": true
   },
   "outputs": [],
   "source": [
    "import import_ipynb\n",
    "import importlib\n",
    "import pandas as pd\n",
    "\n",
    "\n",
    "from Args import preWorkArguments, yoloArguments, fdArguments, imageCalificationArguments, \\\n",
    "                 statisticsExtractionsArguments\n",
    "from PreWork import preWorkMain\n",
    "from ImageCalification import imageCalificationMain"
   ]
  },
  {
   "cell_type": "code",
   "execution_count": null,
   "id": "d706839f",
   "metadata": {
    "scrolled": true
   },
   "outputs": [],
   "source": [
    "if __name__ == \"__main__\":\n",
    "    statisticsExtractionsArgs = statisticsExtractionsArguments()\n",
    "    \n",
    "    answer = \"\"\n",
    "    \n",
    "    info = (\"Action information:\\n\"\n",
    "           \"PreWork: This actions manages the filtering prework\\n\"\n",
    "           \"ImageCalification: This action manages the main pipeline\"\n",
    "           \"using YOLO and Py-Feat\")\n",
    "    print(info)\n",
    "    \n",
    "    print(\"For every question, you can write \\\"y\\\" to select the option or any other character to omit it\")\n",
    "    \n",
    "    answer = input(\"Do yoy want to execute PreWork?\")\n",
    "    if answer == \"y\":\n",
    "        preWorkMain(preWorkArguments())\n",
    "    \n",
    "    answer = input(\"Do yoy want to execute ImageCalification?\")\n",
    "    if answer == \"y\":\n",
    "        imageCalificationMain(imageCalificationArguments(), yoloArguments(), fdArguments())\n",
    "    "
   ]
  },
  {
   "cell_type": "code",
   "execution_count": null,
   "id": "caeed334",
   "metadata": {},
   "outputs": [],
   "source": []
  }
 ],
 "metadata": {
  "kernelspec": {
   "display_name": "Python 3 (ipykernel)",
   "language": "python",
   "name": "python3"
  },
  "language_info": {
   "codemirror_mode": {
    "name": "ipython",
    "version": 3
   },
   "file_extension": ".py",
   "mimetype": "text/x-python",
   "name": "python",
   "nbconvert_exporter": "python",
   "pygments_lexer": "ipython3",
   "version": "3.10.8"
  }
 },
 "nbformat": 4,
 "nbformat_minor": 5
}
